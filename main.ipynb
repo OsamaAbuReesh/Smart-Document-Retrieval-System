{
 "cells": [
  {
   "cell_type": "markdown",
   "metadata": {},
   "source": [
    "# Import libraries needed\n"
   ]
  },
  {
   "cell_type": "code",
   "execution_count": 5,
   "metadata": {},
   "outputs": [],
   "source": [
    "from bs4 import BeautifulSoup\n",
    "from geopy.geocoders import Nominatim\n",
    "from elasticsearch import Elasticsearch\n",
    "import spacy\n",
    "import os\n",
    "from datetime import datetime\n",
    "from dateutil import parser\n",
    "import re\n",
    "from elasticsearch.helpers import bulk"
   ]
  },
  {
   "cell_type": "markdown",
   "metadata": {},
   "source": [
    "# Define Elasticsearch and index mapping\n"
   ]
  },
  {
   "cell_type": "code",
   "execution_count": 6,
   "metadata": {},
   "outputs": [],
   "source": [
    "es = Elasticsearch(\n",
    "    [{'host': 'localhost', 'port': 9200, 'scheme': 'http'}],basic_auth=('osama', 'osama123'))"
   ]
  },
  {
   "cell_type": "code",
   "execution_count": 7,
   "metadata": {},
   "outputs": [
    {
     "data": {
      "text/plain": [
       "ObjectApiResponse({'acknowledged': True, 'shards_acknowledged': True, 'index': 'reuter_index'})"
      ]
     },
     "execution_count": 7,
     "metadata": {},
     "output_type": "execute_result"
    }
   ],
   "source": [
    "index_mapping = {\n",
    "    'mappings': {\n",
    "        'properties': {\n",
    "            \"title\": {\n",
    "                \"type\": \"text\",\n",
    "                \"analyzer\": \"title_analyzer\",\n",
    "                \"search_analyzer\": \"standard\"\n",
    "            },\n",
    "            'content': {\n",
    "                'type': 'text',\n",
    "                'analyzer': 'content_analyzer'\n",
    "            },\n",
    "            \"authors\": {\n",
    "                \"type\": \"nested\",\n",
    "                \"properties\": {\n",
    "                    \"first_name\": {\n",
    "                        \"type\": \"text\"\n",
    "                    },\n",
    "                    \"last_name\": {\n",
    "                        \"type\": \"text\"\n",
    "                    }\n",
    "                }\n",
    "            },\n",
    "            \"date\": {\n",
    "                \"type\": \"date\"\n",
    "            },\n",
    "            \"geopoint\": {\n",
    "                \"type\": \"geo_point\"\n",
    "            },\n",
    "            \"temporal_expressions\": {\n",
    "                \"type\": \"nested\",\n",
    "                \"properties\": {\n",
    "                    \"temporal\": {\"type\": \"text\"},\n",
    "                }\n",
    "            },\n",
    "            \"georeferences\": {\n",
    "                \"type\": \"nested\",\n",
    "                \"properties\": {\n",
    "                    \"reference\": {\n",
    "                        \"type\": \"text\",\n",
    "                        \"fields\": {\n",
    "                            \"keyword\": {\n",
    "                                \"type\": \"keyword\"\n",
    "                            }\n",
    "                        }\n",
    "                    }\n",
    "                },\n",
    "            },\n",
    "        },\n",
    "    },\n",
    "    \"settings\": {\n",
    "        \"analysis\": {\n",
    "            \"filter\": {\n",
    "                \"length_3_to_10_char\": {\"type\": \"length\", \"min\": 3},\n",
    "            },\n",
    "            \"analyzer\": {\n",
    "                \"title_analyzer\": {\n",
    "                    \"type\": \"custom\",\n",
    "                    \"tokenizer\": \"autocomplete_tokenizer\",\n",
    "                    \"filter\": [\n",
    "                        \"lowercase\"\n",
    "                    ]\n",
    "                },\n",
    "                \"content_analyzer\": {\n",
    "                    \"type\": \"custom\",\n",
    "                    \"tokenizer\": \"standard\",\n",
    "                    \"char_filter\": [\n",
    "                        \"html_strip\"\n",
    "                    ],\n",
    "                    \"filter\": [\n",
    "                        \"lowercase\",\n",
    "                        \"stop\",\n",
    "                        \"length_3_to_10_char\",\n",
    "                        \"porter_stem\"\n",
    "                    ]\n",
    "                }\n",
    "            },\n",
    "            \"tokenizer\": {\n",
    "                \"autocomplete_tokenizer\": {\n",
    "                    \"type\": \"edge_ngram\",\n",
    "                    \"min_gram\": 3, \n",
    "                    \"max_gram\": 10,\n",
    "                    \"token_chars\": [\n",
    "                        \"letter\",\n",
    "                        \"digit\"\n",
    "                    ]\n",
    "                }\n",
    "            }\n",
    "        }\n",
    "    }\n",
    "}\n",
    "\n",
    "index_name = \"reuter_index\"\n",
    "es.indices.create(index=index_name, body=index_mapping)"
   ]
  },
  {
   "cell_type": "code",
   "execution_count": 8,
   "metadata": {},
   "outputs": [],
   "source": [
    "# Load spaCy model for English\n",
    "nlp = spacy.load(\"en_core_web_sm\")"
   ]
  },
  {
   "cell_type": "markdown",
   "metadata": {},
   "source": [
    "# Data Extracting for all fields"
   ]
  },
  {
   "cell_type": "markdown",
   "metadata": {},
   "source": [
    "- Use the `extract date` function to extract dates from data and make sure it is applicable with Elasticsearch.\n"
   ]
  },
  {
   "cell_type": "code",
   "execution_count": 24,
   "metadata": {},
   "outputs": [],
   "source": [
    "def extract_date(reuters_tag):\n",
    "    \"\"\"\n",
    "    Parameters:\n",
    "    - reuters_tag: A BeautifulSoup Tag object representing a 'reuters' element with the date information.\n",
    "\n",
    "    Return:\n",
    "    - A formatted date string in Elasticsearch-friendly format if the 'date' tag is present; otherwise, returns None.\n",
    "    \"\"\"\n",
    "    date_tag = reuters_tag.find('date')\n",
    "    \n",
    "    if date_tag:\n",
    "        date_text = date_tag.get_text()\n",
    "        parsed_date = parser.parse(date_text)\n",
    "        elasticsearch_date = parsed_date.isoformat()\n",
    "\n",
    "        return elasticsearch_date\n",
    "\n",
    "    return None"
   ]
  },
  {
   "cell_type": "markdown",
   "metadata": {},
   "source": [
    "- Use `extract_first_last_names` function to split the author name into the first and last names from the `author tag` in the data.\n",
    "\n",
    "- Use `extract_author` function to extract the author's name from the data.\n"
   ]
  },
  {
   "cell_type": "code",
   "execution_count": 25,
   "metadata": {},
   "outputs": [],
   "source": [
    "def extract_first_last_names(author_tag):\n",
    "    # Extract author information from the given tag\n",
    "    author_info = author_tag.get_text() if author_tag else None\n",
    "    \n",
    "    # Check if author_info is not None before proceeding\n",
    "    if author_info:\n",
    "        # Define a case-insensitive regular expression pattern to extract the full author's name\n",
    "        pattern = re.compile(r'by (.*?),', re.IGNORECASE)\n",
    "\n",
    "        # Use the regular expression to find the match\n",
    "        match = re.search(pattern, author_info)\n",
    "\n",
    "        # Extract the full author's name\n",
    "        full_name = match.group(1) if match else None\n",
    "\n",
    "        # Split the full name into first and last names\n",
    "        if full_name:\n",
    "            names = full_name.split()\n",
    "            first_name = names[0] if names else None\n",
    "            last_name = names[-1] if len(names) > 1 else None\n",
    "            return first_name, last_name\n",
    "    return None, None\n",
    "\n",
    "def extract_authors(reuters_tag):\n",
    "    author_tag = reuters_tag.find('author')\n",
    "    return extract_first_last_names(author_tag)"
   ]
  },
  {
   "cell_type": "markdown",
   "metadata": {},
   "source": [
    "- Use `extract_article_title` function to extract the article's title from the data `title` tag.\n"
   ]
  },
  {
   "cell_type": "code",
   "execution_count": 26,
   "metadata": {},
   "outputs": [],
   "source": [
    "def extract_article_title(reuters_tag):\n",
    "    title_tag = reuters_tag.find('title')\n",
    "    return title_tag.get_text() if title_tag else None"
   ]
  },
  {
   "cell_type": "markdown",
   "metadata": {},
   "source": [
    "- Use `clean_text` function to remove unnecessary spaces and some special characters, like `\\n`.\n",
    "\n",
    "- Use `extract_content` function to extract the content of news content from the data `text` tag.\n"
   ]
  },
  {
   "cell_type": "code",
   "execution_count": 27,
   "metadata": {},
   "outputs": [],
   "source": [
    "def clean_text(raw_text):\n",
    "    # Remove control characters and extra spaces\n",
    "    cleaned_text = re.sub(r'[\\x00-\\x1F\\x7F-\\x9F]+', ' ', raw_text)\n",
    "\n",
    "    # Remove leading and trailing whitespaces\n",
    "    cleaned_text = cleaned_text.strip()\n",
    "\n",
    "    return cleaned_text\n",
    "\n",
    "def extract_content(reuters_tag):\n",
    "    text_tag = reuters_tag.find('text')\n",
    "    raw_content = text_tag.get_text() if text_tag else None\n",
    "\n",
    "    # Use clean_text function to clean the extracted content\n",
    "    cleaned_content = clean_text(raw_content) if raw_content else None\n",
    "\n",
    "    return cleaned_content"
   ]
  },
  {
   "cell_type": "markdown",
   "metadata": {},
   "source": [
    "- Use `extract_georeferences` to extract places and then send result of this function to `extract_geopoints` to get the location of place using\n",
    "\n",
    "- `geocode` method from `geopy` library to get latitude and longitude of this place.\n"
   ]
  },
  {
   "cell_type": "code",
   "execution_count": 28,
   "metadata": {},
   "outputs": [],
   "source": [
    "def extract_georeferences(reuters_tag):\n",
    "    places_tag = reuters_tag.find('places')\n",
    "    return [place.get_text() for place in places_tag.find_all('d')] if places_tag else None"
   ]
  },
  {
   "cell_type": "markdown",
   "metadata": {},
   "source": [
    "- Use `extract_temporal_expressions` to extract temporal expressions from the content of news using `spacy` library.\n",
    "- Analysis the text, the ent read text and get entites of text and return text.lebl == 'DATE' to return temporal expressions.\n"
   ]
  },
  {
   "cell_type": "code",
   "execution_count": 29,
   "metadata": {},
   "outputs": [],
   "source": [
    "def extract_temporal_expressions(text):\n",
    "    doc = nlp(text)\n",
    "    return [ent.text for ent in doc.ents if ent.label_ == 'DATE']"
   ]
  },
  {
   "cell_type": "markdown",
   "metadata": {},
   "source": [
    "- Use `extract_geopoints` to convert place name to coordinates by get the location of place using `geocode` method from `geopy` library\n",
    "- to return latitude and longitude of this place.\n"
   ]
  },
  {
   "cell_type": "code",
   "execution_count": 30,
   "metadata": {},
   "outputs": [],
   "source": [
    "def extract_geopoints(georeferences):\n",
    "    geolocator = Nominatim(user_agent=\"geo_app\")\n",
    "    geopoints = []\n",
    "    \n",
    "    for place_name in georeferences:\n",
    "        location = geolocator.geocode(place_name)\n",
    "        if location:\n",
    "            geopoints.append({'latitude': location.latitude, 'longitude': location.longitude})\n",
    "    return geopoints"
   ]
  },
  {
   "cell_type": "markdown",
   "metadata": {},
   "source": [
    "# Data indexing\n",
    "\n",
    "- Excluding documents that do not contain a `title` or `content`\n"
   ]
  },
  {
   "cell_type": "code",
   "execution_count": 31,
   "metadata": {},
   "outputs": [],
   "source": [
    "def generate_documents(reuters_tags):\n",
    "    for reuters_tag in reuters_tags:\n",
    "        date = extract_date(reuters_tag)\n",
    "        first_name, last_name = extract_authors(reuters_tag)\n",
    "        title = extract_article_title(reuters_tag)\n",
    "        file_content = extract_content(reuters_tag)\n",
    "        georeferences = extract_georeferences(reuters_tag)\n",
    "        temporal_expressions = extract_temporal_expressions(file_content)\n",
    "\n",
    "        if not file_content or not title:\n",
    "            continue\n",
    "        \n",
    "        if georeferences:\n",
    "            geopoints = extract_geopoints(georeferences)\n",
    "        else:\n",
    "            geopoints = None\n",
    "\n",
    "        document = {\n",
    "            '_op_type': 'index',\n",
    "            '_index': 'reuter_index',\n",
    "            '_source': {\n",
    "                'title': title,\n",
    "                'content': file_content,\n",
    "                'date': date,\n",
    "                'authors': [{'first_name': first_name, 'last_name': last_name}],\n",
    "                'geopoint': [{'lat': point['latitude'], 'lon': point['longitude']} for point in geopoints] if geopoints else [],\n",
    "                'temporal_expressions': [{'temporal': expression} for expression in temporal_expressions],\n",
    "                'georeferences': [{'reference': reference} for reference in georeferences] if georeferences else []\n",
    "            }\n",
    "        }\n",
    "        \n",
    "        yield document\n",
    "\n",
    "def bulk_index_documents(reuters_tags):\n",
    "    try:\n",
    "        success, failed = bulk(es, generate_documents(reuters_tags))\n",
    "        print(f\"Successfully indexed {success} documents.\")\n",
    "        if failed:\n",
    "            print(f\"Failed to index {len(failed)} documents.\")\n",
    "            for item in failed:\n",
    "                print(f\"Error indexing document: {item['index']['error']}\")\n",
    "    except Exception as e:\n",
    "        print(f\"Error during bulk indexing: {e}\")"
   ]
  },
  {
   "cell_type": "code",
   "execution_count": null,
   "metadata": {},
   "outputs": [],
   "source": [
    "def read_file_and_bulk_index(folder_path):\n",
    "    all_reuters_tags = []\n",
    "    batch_size = 100\n",
    "    count = 0\n",
    "\n",
    "    for filename in os.listdir(folder_path):\n",
    "        if filename.endswith(\".sgm\"):\n",
    "            file_path = os.path.join(folder_path, filename)\n",
    "            try:\n",
    "                with open(file_path, 'r', encoding='latin-1') as file:\n",
    "                    content = file.read()\n",
    "\n",
    "                soup = BeautifulSoup(content, 'html.parser')\n",
    "                reuters_tags = soup.find_all('reuters')\n",
    "                all_reuters_tags.extend(reuters_tags)\n",
    "\n",
    "                count += len(reuters_tags)\n",
    "\n",
    "                if count >= batch_size:\n",
    "                    bulk_index_documents(all_reuters_tags)\n",
    "                    print(f\"Indexed {count} documents.\")\n",
    "                    all_reuters_tags = []\n",
    "                    count = 0\n",
    "\n",
    "            except Exception as e:\n",
    "                print(f\"Error reading or indexing file '{file_path}': {e}\")\n",
    "\n",
    "    if all_reuters_tags:\n",
    "        bulk_index_documents(all_reuters_tags)\n",
    "\n",
    "data_folder = \"./archive\"\n",
    "\n",
    "read_file_and_bulk_index(data_folder)"
   ]
  },
  {
   "cell_type": "code",
   "execution_count": 36,
   "metadata": {},
   "outputs": [
    {
     "data": {
      "text/plain": [
       "[{'title': 'STOLTENBERG CALLS FOR NEW BRAZIL TALKS WITH BANKS',\n",
       "  'date': '1987-04-03T08:50:09.710000'},\n",
       " {'title': 'ICO QUOTAS BEFORE OCTOBER UNLIKELY - DELEGATES',\n",
       "  'date': '1987-04-01T11:12:00.710000'},\n",
       " {'title': 'ICO COFFEE PRODUCERS TO DISCUSS MARKET SITUATION',\n",
       "  'date': '1987-04-01T08:28:11.350000'},\n",
       " {'title': 'COMMODITY PACTS MORE ORIENTED TOWARDS MARKET',\n",
       "  'date': '1987-03-31T06:07:48.830000'},\n",
       " {'title': 'CANADA BANKS COULD SEE PRESSURE ON BRAZIL LOANS',\n",
       "  'date': '1987-03-30T18:03:22.770000'},\n",
       " {'title': 'MULFORD SEES MORE BANK LOANS TO DEBTORS IN 1987',\n",
       "  'date': '1987-03-26T09:52:24.180000'},\n",
       " {'title': \"DAUSTER SAYS NO CHANGE IN BRAZIL'S COFFEE POLICY\",\n",
       "  'date': '1987-03-25T19:04:37.950000'},\n",
       " {'title': 'ECONOMIC SPOTLIGHT - BRAZIL DEBT DEADLINES LOOM',\n",
       "  'date': '1987-03-23T15:39:33.720000'},\n",
       " {'title': 'BRAZIL DEBT OFFICIAL OFFERS RESIGNATION',\n",
       "  'date': '1987-03-23T11:08:37.610000'},\n",
       " {'title': 'PREMIER SAYS YUGOSLAVIA WILL PAY ITS DEBTS',\n",
       "  'date': '1987-03-23T07:17:17.820000'}]"
      ]
     },
     "execution_count": 36,
     "metadata": {},
     "output_type": "execute_result"
    }
   ],
   "source": [
    "def relevant_docs(query, temporal_expression, georeference):\n",
    "    es_query = {\n",
    "        \"query\": {\n",
    "            \"bool\": {\n",
    "                \"must\": [\n",
    "                    {\n",
    "                        \"multi_match\": {\n",
    "                            \"query\": query,\n",
    "                            \"fields\": [\"title^2\", \"content\"]\n",
    "                        }\n",
    "                    },\n",
    "                    {\n",
    "                        \"nested\": {\n",
    "                            \"path\": \"temporal_expressions\",\n",
    "                            \"query\": {\n",
    "                                \"match\": {\n",
    "                                    \"temporal_expressions.temporal\": temporal_expression\n",
    "                                }\n",
    "                            }\n",
    "                        }\n",
    "                    },\n",
    "                    {\n",
    "                        \"nested\": {\n",
    "                            \"path\": \"georeferences\",\n",
    "                            \"query\": {\n",
    "                                \"match\": {\n",
    "                                    \"georeferences.reference\": georeference\n",
    "                                }\n",
    "                            }\n",
    "                        }\n",
    "                    }\n",
    "                ]\n",
    "            }\n",
    "        },\n",
    "        \"sort\": [\n",
    "            {\"date\": {\"order\": \"desc\"}}  # (recency)\n",
    "        ]\n",
    "    }\n",
    "\n",
    "    # Execute the query\n",
    "    result = es.search(index='reuter_index', body=es_query)\n",
    "\n",
    "    # Extract relevant information from the result\n",
    "    relevant_documents = [\n",
    "        {\n",
    "            'title': hit['_source']['title'],\n",
    "            'date': hit['_source']['date'],\n",
    "        }\n",
    "        for hit in result['hits']['hits']\n",
    "    ]\n",
    "\n",
    "    return relevant_documents\n",
    "\n",
    "# Example usage\n",
    "query = \"TALKING\"\n",
    "temporal_expression = \"this week\"\n",
    "georeference = \"brazil\"\n",
    "\n",
    "results = relevant_docs(query, temporal_expression, georeference)\n",
    "results"
   ]
  },
  {
   "cell_type": "code",
   "execution_count": 37,
   "metadata": {},
   "outputs": [
    {
     "data": {
      "text/plain": [
       "[{'Ref': 'usa', 'Freq': 6649},\n",
       " {'Ref': 'uk', 'Freq': 891},\n",
       " {'Ref': 'canada', 'Freq': 598},\n",
       " {'Ref': 'japan', 'Freq': 516},\n",
       " {'Ref': 'west-germany', 'Freq': 306},\n",
       " {'Ref': 'france', 'Freq': 253},\n",
       " {'Ref': 'brazil', 'Freq': 207},\n",
       " {'Ref': 'australia', 'Freq': 148},\n",
       " {'Ref': 'belgium', 'Freq': 130},\n",
       " {'Ref': 'china', 'Freq': 127}]"
      ]
     },
     "execution_count": 37,
     "metadata": {},
     "output_type": "execute_result"
    }
   ],
   "source": [
    "# Assuming you have the necessary mappings and index created\n",
    "\n",
    "def top_georeferences():\n",
    "    # Your Elasticsearch aggregation query\n",
    "    es_aggregation = {\n",
    "        \"size\": 0,\n",
    "        \"aggs\": {\n",
    "            \"top_georeferences\": {\n",
    "                \"nested\": {\n",
    "                    \"path\": \"georeferences\"\n",
    "                },\n",
    "                \"aggs\": {\n",
    "                    \"top_references\": {\n",
    "                        \"terms\": {\n",
    "                            \"field\": \"georeferences.reference.keyword\",\n",
    "                            \"size\": 10  # Return top-10 mentioned georeferences\n",
    "                        }\n",
    "                    }\n",
    "                }\n",
    "            }\n",
    "        }\n",
    "    }\n",
    "\n",
    "    # Execute the aggregation query\n",
    "    result = es.search(index='reuter_index', body={\"query\": {\"match_all\": {}}, **es_aggregation})\n",
    "\n",
    "    # Extract relevant information from the result\n",
    "    top_georeferences = [\n",
    "        {\n",
    "            'Ref': bucket['key'],\n",
    "            'Freq': bucket['doc_count']\n",
    "        }\n",
    "        for bucket in result['aggregations']['top_georeferences']['top_references']['buckets']\n",
    "    ]\n",
    "\n",
    "    return top_georeferences\n",
    "\n",
    "# Example usage\n",
    "top_georeferences_result = top_georeferences()\n",
    "top_georeferences_result"
   ]
  },
  {
   "cell_type": "code",
   "execution_count": 39,
   "metadata": {},
   "outputs": [
    {
     "data": {
      "image/png": "[encoded data removed]",
      "text/plain": [
       "<IPython.core.display.Image object>"
      ]
     },
     "metadata": {},
     "output_type": "display_data"
    }
   ],
   "source": [
    "from IPython.display import Image, display\n",
    "\n",
    "# Specify the path to your image file\n",
    "image_path = './date per day.png'\n",
    "\n",
    "# Display the image\n",
    "display(Image(filename=image_path))"
   ]
  },
  {
   "cell_type": "code",
   "execution_count": null,
   "metadata": {},
   "outputs": [],
   "source": []
  }
 ],
 "metadata": {
  "kernelspec": {
   "display_name": "Python 3",
   "language": "python",
   "name": "python3"
  },
  "language_info": {
   "codemirror_mode": {
    "name": "ipython",
    "version": 3
   },
   "file_extension": ".py",
   "mimetype": "text/x-python",
   "name": "python",
   "nbconvert_exporter": "python",
   "pygments_lexer": "ipython3",
   "version": "3.11.5"
  }
 },
 "nbformat": 4,
 "nbformat_minor": 2
}
